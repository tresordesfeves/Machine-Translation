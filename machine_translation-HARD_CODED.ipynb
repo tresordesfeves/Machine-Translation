{
 "cells": [
  {
   "cell_type": "markdown",
   "metadata": {
    "collapsed": true
   },
   "source": [
    "# Artificial Intelligence Nanodegree\n",
    "## Machine Translation Project\n",
    "In this notebook, sections that end with **'(IMPLEMENTATION)'** in the header indicate that the following blocks of code will require additional functionality which you must provide. Please be sure to read the instructions carefully!\n",
    "\n",
    "## Introduction\n",
    "In this notebook, you will build a deep neural network that functions as part of an end-to-end machine translation pipeline. Your completed pipeline will accept English text as input and return the French translation.\n",
    "\n",
    "- **Preprocess** - You'll convert text to sequence of integers.\n",
    "- **Models** Create models which accepts a sequence of integers as input and returns a probability distribution over possible translations. After learning about the basic types of neural networks that are often used for machine translation, you will engage in your own investigations, to design your own model!\n",
    "- **Prediction** Run the model on English text."
   ]
  },
  {
   "cell_type": "code",
   "execution_count": 12,
   "metadata": {},
   "outputs": [
    {
     "name": "stdout",
     "output_type": "stream",
     "text": [
      "The autoreload extension is already loaded. To reload it, use:\n",
      "  %reload_ext autoreload\n"
     ]
    }
   ],
   "source": [
    "%load_ext autoreload\n",
    "%aimport helper, tests\n",
    "%autoreload "
   ]
  },
  {
   "cell_type": "code",
   "execution_count": 13,
   "metadata": {},
   "outputs": [],
   "source": [
    "import collections\n",
    "\n",
    "import helper\n",
    "import numpy as np\n",
    "import project_tests as tests\n",
    "\n",
    "from keras.preprocessing.text import Tokenizer\n",
    "from keras.preprocessing.sequence import pad_sequences\n",
    "from keras.models import Model\n",
    "from keras.layers import GRU, Input, Dense, TimeDistributed, Activation, RepeatVector, Bidirectional\n",
    "from keras.layers.embeddings import Embedding\n",
    "from keras.optimizers import Adam\n",
    "from keras.losses import sparse_categorical_crossentropy\n",
    "#https://www.datacamp.com/community/blog/keras-cheat-sheet\n",
    "#word_counts: A dictionary of words and their counts.\n",
    "#word_docs: A dictionary of words and how many documents each appeared in.\n",
    "#word_index: A dictionary of words and their uniquely assigned integers.\n",
    "#document_cou"
   ]
  },
  {
   "cell_type": "markdown",
   "metadata": {},
   "source": [
    "### Verify access to the GPU\n",
    "The following test applies only if you expect to be using a GPU, e.g., while running in a Udacity Workspace or using an AWS instance with GPU support. Run the next cell, and verify that the device_type is \"GPU\".\n",
    "- If the device is not GPU & you are running from a Udacity Workspace, then save your workspace with the icon at the top, then click \"enable\" at the bottom of the workspace.\n",
    "- If the device is not GPU & you are running from an AWS instance, then refer to the cloud computing instructions in the classroom to verify your setup steps."
   ]
  },
  {
   "cell_type": "code",
   "execution_count": 14,
   "metadata": {},
   "outputs": [
    {
     "name": "stdout",
     "output_type": "stream",
     "text": [
      "[name: \"/cpu:0\"\n",
      "device_type: \"CPU\"\n",
      "memory_limit: 268435456\n",
      "locality {\n",
      "}\n",
      "incarnation: 10649956729682837629\n",
      ", name: \"/gpu:0\"\n",
      "device_type: \"GPU\"\n",
      "memory_limit: 357302272\n",
      "locality {\n",
      "  bus_id: 1\n",
      "}\n",
      "incarnation: 14077430561881951285\n",
      "physical_device_desc: \"device: 0, name: Tesla K80, pci bus id: 0000:00:04.0\"\n",
      "]\n"
     ]
    }
   ],
   "source": [
    "from tensorflow.python.client import device_lib\n",
    "print(device_lib.list_local_devices())"
   ]
  },
  {
   "cell_type": "markdown",
   "metadata": {},
   "source": [
    "## Dataset\n",
    "We begin by investigating the dataset that will be used to train and evaluate your pipeline.  The most common datasets used for machine translation are from [WMT](http://www.statmt.org/).  However, that will take a long time to train a neural network on.  We'll be using a dataset we created for this project that contains a small vocabulary.  You'll be able to train your model in a reasonable time with this dataset.\n",
    "### Load Data\n",
    "The data is located in `data/small_vocab_en` and `data/small_vocab_fr`. The `small_vocab_en` file contains English sentences with their French translations in the `small_vocab_fr` file. Load the English and French data from these files from running the cell below."
   ]
  },
  {
   "cell_type": "code",
   "execution_count": 15,
   "metadata": {},
   "outputs": [
    {
     "name": "stdout",
     "output_type": "stream",
     "text": [
      "Dataset Loaded\n"
     ]
    }
   ],
   "source": [
    "# Load English data\n",
    "english_sentences = helper.load_data('data/small_vocab_en')\n",
    "# Load French data\n",
    "french_sentences = helper.load_data('data/small_vocab_fr')\n",
    "\n",
    "print('Dataset Loaded')"
   ]
  },
  {
   "cell_type": "markdown",
   "metadata": {},
   "source": [
    "### Files\n",
    "Each line in `small_vocab_en` contains an English sentence with the respective translation in each line of `small_vocab_fr`.  View the first two lines from each file."
   ]
  },
  {
   "cell_type": "code",
   "execution_count": 16,
   "metadata": {},
   "outputs": [
    {
     "name": "stdout",
     "output_type": "stream",
     "text": [
      "small_vocab_en Line 1:  new jersey is sometimes quiet during autumn , and it is snowy in april .\n",
      "small_vocab_fr Line 1:  new jersey est parfois calme pendant l' automne , et il est neigeux en avril .\n",
      "small_vocab_en Line 2:  the united states is usually chilly during july , and it is usually freezing in november .\n",
      "small_vocab_fr Line 2:  les états-unis est généralement froid en juillet , et il gèle habituellement en novembre .\n",
      "small_vocab_en Line 3:  california is usually quiet during march , and it is usually hot in june .\n",
      "small_vocab_fr Line 3:  california est généralement calme en mars , et il est généralement chaud en juin .\n"
     ]
    }
   ],
   "source": [
    "\n",
    "for sample_i in range(3):\n",
    "    print('small_vocab_en Line {}:  {}'.format(sample_i + 1, english_sentences[sample_i]))\n",
    "    print('small_vocab_fr Line {}:  {}'.format(sample_i + 1, french_sentences[sample_i]))"
   ]
  },
  {
   "cell_type": "markdown",
   "metadata": {},
   "source": [
    "From looking at the sentences, you can see they have been preprocessed already.  The puncuations have been delimited using spaces. All the text have been converted to lowercase.  This should save you some time, but the text requires more preprocessing.\n",
    "### Vocabulary\n",
    "The complexity of the problem is determined by the complexity of the vocabulary.  A more complex vocabulary is a more complex problem.  Let's look at the complexity of the dataset we'll be working with."
   ]
  },
  {
   "cell_type": "code",
   "execution_count": 17,
   "metadata": {},
   "outputs": [
    {
     "name": "stdout",
     "output_type": "stream",
     "text": [
      "1823250 English words.\n",
      "227 unique English words.\n",
      "10 Most common words in the English dataset:\n",
      "\"is\" \",\" \".\" \"in\" \"it\" \"during\" \"the\" \"but\" \"and\" \"sometimes\"\n",
      "\n",
      "1961295 French words.\n",
      "355 unique French words.\n",
      "10 Most common words in the French dataset:\n",
      "\"est\" \".\" \",\" \"en\" \"il\" \"les\" \"mais\" \"et\" \"la\" \"parfois\"\n"
     ]
    }
   ],
   "source": [
    "english_words_counter = collections.Counter([word for sentence in english_sentences for word in sentence.split()])\n",
    "french_words_counter = collections.Counter([word for sentence in french_sentences for word in sentence.split()])\n",
    "\n",
    "print('{} English words.'.format(len([word for sentence in english_sentences for word in sentence.split()])))\n",
    "print('{} unique English words.'.format(len(english_words_counter)))\n",
    "print('10 Most common words in the English dataset:')\n",
    "print('\"' + '\" \"'.join(list(zip(*english_words_counter.most_common(10)))[0]) + '\"')\n",
    "print()\n",
    "print('{} French words.'.format(len([word for sentence in french_sentences for word in sentence.split()])))\n",
    "print('{} unique French words.'.format(len(french_words_counter)))\n",
    "print('10 Most common words in the French dataset:')\n",
    "print('\"' + '\" \"'.join(list(zip(*french_words_counter.most_common(10)))[0]) + '\"')"
   ]
  },
  {
   "cell_type": "markdown",
   "metadata": {},
   "source": [
    "For comparison, _Alice's Adventures in Wonderland_ contains 2,766 unique words of a total of 15,500 words.\n",
    "## Preprocess\n",
    "For this project, you won't use text data as input to your model. Instead, you'll convert the text into sequences of integers using the following preprocess methods:\n",
    "1. Tokenize the words into ids\n",
    "2. Add padding to make all the sequences the same length.\n",
    "\n",
    "Time to start preprocessing the data...\n",
    "### Tokenize (IMPLEMENTATION)\n",
    "For a neural network to predict on text data, it first has to be turned into data it can understand. Text data like \"dog\" is a sequence of ASCII character encodings.  Since a neural network is a series of multiplication and addition operations, the input data needs to be number(s).\n",
    "\n",
    "We can turn each character into a number or each word into a number.  These are called character and word ids, respectively.  Character ids are used for character level models that generate text predictions for each character.  A word level model uses word ids that generate text predictions for each word.  Word level models tend to learn better, since they are lower in complexity, so we'll use those.\n",
    "\n",
    "Turn each sentence into a sequence of words ids using Keras's [`Tokenizer`](https://keras.io/preprocessing/text/#tokenizer) function. Use this function to tokenize `english_sentences` and `french_sentences` in the cell below.\n",
    "\n",
    "Running the cell will run `tokenize` on sample data and show output for debugging."
   ]
  },
  {
   "cell_type": "code",
   "execution_count": 18,
   "metadata": {},
   "outputs": [
    {
     "name": "stdout",
     "output_type": "stream",
     "text": [
      "{'the': 1, 'quick': 2, 'a': 3, 'brown': 4, 'fox': 5, 'jumps': 6, 'over': 7, 'lazy': 8, 'dog': 9, 'by': 10, 'jove': 11, 'my': 12, 'study': 13, 'of': 14, 'lexicography': 15, 'won': 16, 'prize': 17, 'this': 18, 'is': 19, 'short': 20, 'sentence': 21}\n",
      "Sequence 1 in x\n",
      "  Input:  The quick brown fox jumps over the lazy dog .\n",
      "  Output: [1, 2, 4, 5, 6, 7, 1, 8, 9]\n",
      "Sequence 2 in x\n",
      "  Input:  By Jove , my quick study of lexicography won a prize .\n",
      "  Output: [10, 11, 12, 2, 13, 14, 15, 16, 3, 17]\n",
      "Sequence 3 in x\n",
      "  Input:  This is a short sentence .\n",
      "  Output: [18, 19, 3, 20, 21]\n"
     ]
    }
   ],
   "source": [
    "from keras.preprocessing.text import text_to_word_sequence\n",
    "\n",
    "def tokenize(x):\n",
    "    \"\"\"\n",
    "    Tokenize x\n",
    "    :param x: List of sentences/strings to be tokenized\n",
    "    :return: Tuple of (tokenized x data, tokenizer used to tokenize x). see attributes below:\n",
    "    \"\"\"\n",
    "    # word_index: A dictionary of words and their uniquely assigned integers.\n",
    "    My_Tokenizer = Tokenizer(lower=True, split=' ', char_level = False)\n",
    "    #instanciating\n",
    "    My_Tokenizer.fit_on_texts(x)\n",
    "    Ze_Tokenized=My_Tokenizer.texts_to_sequences(x)\n",
    "    \n",
    "    #print(Ze_Tokenized)\n",
    "    return Ze_Tokenized, My_Tokenizer\n",
    "    \n",
    "    \n",
    "tests.test_tokenize(tokenize)\n",
    "\n",
    "# Tokenize Example output\n",
    "text_sentences = [\n",
    "    'The quick brown fox jumps over the lazy dog .',\n",
    "    'By Jove , my quick study of lexicography won a prize .',\n",
    "    'This is a short sentence .']\n",
    "text_tokenized, text_tokenizer = tokenize(text_sentences)\n",
    "print(text_tokenizer.word_index)\n",
    "#word_index: A dictionary of words and their uniquely assigned integers. Note the sequential assignment \n",
    "#\"quick\" beeing the first reocuring word hence the skip in the allocation process till the next \"new\" token\n",
    "for sample_i, (sent, token_sent) in enumerate(zip(text_sentences, text_tokenized)):\n",
    "    print('Sequence {} in x'.format(sample_i + 1))\n",
    "    print('  Input:  {}'.format(sent))\n",
    "    print('  Output: {}'.format(token_sent))"
   ]
  },
  {
   "cell_type": "markdown",
   "metadata": {},
   "source": [
    "### Padding (IMPLEMENTATION)\n",
    "When batching the sequence of word ids together, each sequence needs to be the same length.  Since sentences are dynamic in length, we can add padding to the end of the sequences to make them the same length.\n",
    "\n",
    "Make sure all the English sequences have the same length and all the French sequences have the same length by adding padding to the **end** of each sequence using Keras's [`pad_sequences`](https://keras.io/preprocessing/sequence/#pad_sequences) function."
   ]
  },
  {
   "cell_type": "code",
   "execution_count": 19,
   "metadata": {},
   "outputs": [
    {
     "name": "stdout",
     "output_type": "stream",
     "text": [
      "Sequence 1 in x\n",
      "  Input:  [1 2 4 5 6 7 1 8 9]\n",
      "  Output: [1 2 4 5 6 7 1 8 9 0]\n",
      "Sequence 2 in x\n",
      "  Input:  [10 11 12  2 13 14 15 16  3 17]\n",
      "  Output: [10 11 12  2 13 14 15 16  3 17]\n",
      "Sequence 3 in x\n",
      "  Input:  [18 19  3 20 21]\n",
      "  Output: [18 19  3 20 21  0  0  0  0  0]\n"
     ]
    }
   ],
   "source": [
    "#post padding, default padding character \"0\"\n",
    "def pad(x, length=None):\n",
    "    #find out the maximum \n",
    "    if length==None:\n",
    "        length=max([len(phrase) for phrase in x])\n",
    "        \n",
    "    return pad_sequences(x, maxlen=length,padding='post', value=0.0)\n",
    "    # padding is done after the phrases, padding value is 0 since all other integers can represent a word in the corpus\n",
    "                        \n",
    "\n",
    "    \n",
    "tests.test_pad(pad)\n",
    "\n",
    "# Pad Tokenized output\n",
    "test_pad = pad(text_tokenized)\n",
    "for sample_i, (token_sent, pad_sent) in enumerate(zip(text_tokenized, test_pad)):\n",
    "    print('Sequence {} in x'.format(sample_i + 1))\n",
    "    print('  Input:  {}'.format(np.array(token_sent)))\n",
    "    print('  Output: {}'.format(pad_sent))"
   ]
  },
  {
   "cell_type": "markdown",
   "metadata": {},
   "source": [
    "### Preprocess Pipeline\n",
    "Your focus for this project is to build neural network architecture, so we won't ask you to create a preprocess pipeline.  Instead, we've provided you with the implementation of the `preprocess` function."
   ]
  },
  {
   "cell_type": "code",
   "execution_count": 20,
   "metadata": {},
   "outputs": [
    {
     "name": "stdout",
     "output_type": "stream",
     "text": [
      "Data Preprocessed\n",
      "Max English sentence length: 15\n",
      "Max French sentence length: 21\n",
      "English vocabulary size: 199\n",
      "French vocabulary size: 344\n"
     ]
    }
   ],
   "source": [
    "def preprocess(x, y):\n",
    "    \"\"\"\n",
    "    Preprocess x and y\n",
    "    :param x: Feature List of sentences\n",
    "    :param y: Label List of sentences\n",
    "    :return: Tuple of (Preprocessed x, Preprocessed y, x tokenizer, y tokenizer)\n",
    "    \"\"\"\n",
    "    preprocess_x, x_tk = tokenize(x)\n",
    "    preprocess_y, y_tk = tokenize(y)\n",
    "\n",
    "    preprocess_x = pad(preprocess_x)\n",
    "    preprocess_y = pad(preprocess_y)\n",
    "    \n",
    "    # Keras's sparse_categorical_crossentropy function requires the labels to be in 3 dimensions\n",
    "    preprocess_y = preprocess_y.reshape(*preprocess_y.shape, 1)\n",
    "    \n",
    "    return preprocess_x, preprocess_y, x_tk, y_tk\n",
    "\n",
    "preproc_english_sentences, preproc_french_sentences, english_tokenizer, french_tokenizer =\\\n",
    "    preprocess(english_sentences, french_sentences)\n",
    "    \n",
    "max_english_sequence_length = preproc_english_sentences.shape[1]\n",
    "max_french_sequence_length = preproc_french_sentences.shape[1]\n",
    "english_vocab_size = len(english_tokenizer.word_index)\n",
    "french_vocab_size = len(french_tokenizer.word_index)\n",
    "\n",
    "print('Data Preprocessed')\n",
    "print(\"Max English sentence length:\", max_english_sequence_length)\n",
    "print(\"Max French sentence length:\", max_french_sequence_length)\n",
    "print(\"English vocabulary size:\", english_vocab_size)\n",
    "print(\"French vocabulary size:\", french_vocab_size)"
   ]
  },
  {
   "cell_type": "markdown",
   "metadata": {},
   "source": [
    "## Models\n",
    "In this section, you will experiment with various neural network architectures.\n",
    "You will begin by training four relatively simple architectures.\n",
    "- Model 1 is a simple RNN\n",
    "- Model 2 is a RNN with Embedding\n",
    "- Model 3 is a Bidirectional RNN\n",
    "- Model 4 is an optional Encoder-Decoder RNN\n",
    "\n",
    "After experimenting with the four simple architectures, you will construct a deeper architecture that is designed to outperform all four models.\n",
    "### Ids Back to Text\n",
    "The neural network will be translating the input to words ids, which isn't the final form we want.  We want the French translation.  The function `logits_to_text` will bridge the gab between the logits from the neural network to the French translation.  You'll be using this function to better understand the output of the neural network."
   ]
  },
  {
   "cell_type": "code",
   "execution_count": 21,
   "metadata": {},
   "outputs": [
    {
     "name": "stdout",
     "output_type": "stream",
     "text": [
      "`logits_to_text` function loaded.\n"
     ]
    }
   ],
   "source": [
    "def logits_to_text(logits, tokenizer):\n",
    "    \"\"\"\n",
    "    Turn logits from a neural network into text using the tokenizer\n",
    "    :param logits: Logits from a neural network\n",
    "    :param tokenizer: Keras Tokenizer fit on the labels\n",
    "    :return: String that represents the text of the logits\n",
    "    \"\"\"\n",
    "    index_to_words = {id: word for word, id in tokenizer.word_index.items()}\n",
    "    index_to_words[0] = '<PAD>'\n",
    "\n",
    "    return ' '.join([index_to_words[prediction] for prediction in np.argmax(logits, 1)])\n",
    "\n",
    "print('`logits_to_text` function loaded.')"
   ]
  },
  {
   "cell_type": "markdown",
   "metadata": {},
   "source": [
    "### Model 1: RNN (IMPLEMENTATION)\n",
    "![RNN](images/rnn.png)\n",
    "A basic RNN model is a good baseline for sequence data.  In this model, you'll build a RNN that translates English to French."
   ]
  },
  {
   "cell_type": "code",
   "execution_count": 26,
   "metadata": {},
   "outputs": [
    {
     "name": "stdout",
     "output_type": "stream",
     "text": [
      "Train on 110288 samples, validate on 27573 samples\n",
      "Epoch 1/25\n",
      "110288/110288 [==============================] - 10s 92us/step - loss: 1.8871 - acc: 0.5575 - val_loss: 1.3552 - val_acc: 0.6221\n",
      "Epoch 2/25\n",
      "110288/110288 [==============================] - 8s 73us/step - loss: 1.2513 - acc: 0.6435 - val_loss: 1.1738 - val_acc: 0.6556\n",
      "Epoch 3/25\n",
      "110288/110288 [==============================] - 8s 73us/step - loss: 1.1341 - acc: 0.6607 - val_loss: 1.0875 - val_acc: 0.6703\n",
      "Epoch 4/25\n",
      "110288/110288 [==============================] - 8s 73us/step - loss: 1.0668 - acc: 0.6714 - val_loss: 1.0457 - val_acc: 0.6767\n",
      "Epoch 5/25\n",
      "110288/110288 [==============================] - 8s 73us/step - loss: 1.0204 - acc: 0.6802 - val_loss: 1.0083 - val_acc: 0.6870\n",
      "Epoch 6/25\n",
      "110288/110288 [==============================] - 8s 73us/step - loss: 0.9827 - acc: 0.6893 - val_loss: 0.9604 - val_acc: 0.7007\n",
      "Epoch 7/25\n",
      "110288/110288 [==============================] - 8s 73us/step - loss: 0.9485 - acc: 0.6994 - val_loss: 0.9190 - val_acc: 0.7065\n",
      "Epoch 8/25\n",
      "110288/110288 [==============================] - 8s 73us/step - loss: 0.9176 - acc: 0.7088 - val_loss: 0.9245 - val_acc: 0.6984\n",
      "Epoch 9/25\n",
      "110288/110288 [==============================] - 8s 73us/step - loss: 0.8870 - acc: 0.7169 - val_loss: 0.8657 - val_acc: 0.7181\n",
      "Epoch 10/25\n",
      "110288/110288 [==============================] - 8s 73us/step - loss: 0.8685 - acc: 0.7211 - val_loss: 0.8520 - val_acc: 0.7257\n",
      "Epoch 11/25\n",
      "110288/110288 [==============================] - 8s 73us/step - loss: 0.8436 - acc: 0.7295 - val_loss: 0.8228 - val_acc: 0.7346\n",
      "Epoch 12/25\n",
      "110288/110288 [==============================] - 8s 73us/step - loss: 0.8289 - acc: 0.7333 - val_loss: 0.8740 - val_acc: 0.7051\n",
      "Epoch 13/25\n",
      "110288/110288 [==============================] - 8s 73us/step - loss: 0.8142 - acc: 0.7377 - val_loss: 0.8132 - val_acc: 0.7350\n",
      "Epoch 14/25\n",
      "110288/110288 [==============================] - 8s 73us/step - loss: 0.8043 - acc: 0.7414 - val_loss: 0.8015 - val_acc: 0.7423\n",
      "Epoch 15/25\n",
      "110288/110288 [==============================] - 8s 73us/step - loss: 0.8390 - acc: 0.7219 - val_loss: 0.8142 - val_acc: 0.7347\n",
      "Epoch 16/25\n",
      "110288/110288 [==============================] - 8s 73us/step - loss: 0.7998 - acc: 0.7414 - val_loss: 0.7999 - val_acc: 0.7474\n",
      "Epoch 17/25\n",
      "110288/110288 [==============================] - 8s 73us/step - loss: 0.7635 - acc: 0.7575 - val_loss: 0.7981 - val_acc: 0.7443\n",
      "Epoch 18/25\n",
      "110288/110288 [==============================] - 8s 74us/step - loss: 0.7537 - acc: 0.7602 - val_loss: 0.7265 - val_acc: 0.7727\n",
      "Epoch 19/25\n",
      "110288/110288 [==============================] - 8s 73us/step - loss: 0.7386 - acc: 0.7649 - val_loss: 0.9313 - val_acc: 0.7044\n",
      "Epoch 20/25\n",
      "110288/110288 [==============================] - 8s 73us/step - loss: 0.7546 - acc: 0.7590 - val_loss: 0.7149 - val_acc: 0.7753\n",
      "Epoch 21/25\n",
      "110288/110288 [==============================] - 8s 73us/step - loss: 0.7132 - acc: 0.7734 - val_loss: 0.7233 - val_acc: 0.7684\n",
      "Epoch 22/25\n",
      "110288/110288 [==============================] - 8s 73us/step - loss: 0.7280 - acc: 0.7665 - val_loss: 0.7167 - val_acc: 0.7689\n",
      "Epoch 23/25\n",
      "110288/110288 [==============================] - 8s 72us/step - loss: 0.6909 - acc: 0.7807 - val_loss: 0.6776 - val_acc: 0.7878\n",
      "Epoch 24/25\n",
      "110288/110288 [==============================] - 8s 73us/step - loss: 0.6854 - acc: 0.7818 - val_loss: 0.6731 - val_acc: 0.7889\n",
      "Epoch 25/25\n",
      "110288/110288 [==============================] - 8s 74us/step - loss: 0.6758 - acc: 0.7855 - val_loss: 0.6642 - val_acc: 0.7881\n",
      "new jersey is sometimes quiet during autumn , and it is snowy in april .\n",
      "new jersey est parfois calme en mois de il est il en en <PAD> <PAD> <PAD> <PAD> <PAD> <PAD> <PAD> <PAD>\n"
     ]
    }
   ],
   "source": [
    "def simple_model(input_shape, output_sequence_length, english_vocab_size, french_vocab_size):\n",
    "    \"\"\"\n",
    "    Build and train a basic RNN on x and y\n",
    "    :param input_shape: Tuple of input shape\n",
    "    :param output_sequence_length: Length of output sequence\n",
    "    :param english_vocab_size: Number of unique English words in the dataset\n",
    "    :param french_vocab_size: Number of unique French words in the dataset\n",
    "    :return: Keras model built, but not trained\n",
    "    \"\"\"\n",
    "    learning_rate = 1e-2\n",
    "    input_seq = Input(input_shape[1:])\n",
    "    #number of GRU units=128\n",
    "    \"\"\"\n",
    "        accuracy at 32 0.502 in 70 seconds\n",
    "        accuracy at 64\t0.61 in 70 seconds\n",
    "        accuracy at 128:0.6599  in 80 seconds <<<<<<-------\n",
    "        accuracy at 256 :0.6820 at 110 seconds\n",
    "        accuracy at 512: 0.7250 180 seconds\n",
    "        accuracy at 1024  0.7788 420 seconds\n",
    "        \n",
    "        we chose 128 as the best accuracy vs performance compromise\n",
    "        then we raised the accuracy by increasing the number of epochs up to 25 but kept the processing \n",
    "        time in check by raising the learning rate from 1e-3 to 1e-2 thus bring the accuracy from 0.65 to 0.788\n",
    "\"\"\"\n",
    "    rnn = GRU(128, return_sequences = True)(input_seq)\n",
    "        #french_vocab_size: output size is logicaly based on the size of the langage we are tranlating to \n",
    "    logits = TimeDistributed(Dense(french_vocab_size))(rnn)\n",
    "        # softmax for normalization, OK for not deep RNN\n",
    "    S_M = Model(input_seq, Activation('softmax')(logits))\n",
    "    S_M.compile(loss=sparse_categorical_crossentropy,\n",
    "                  optimizer=Adam(learning_rate),\n",
    "                  metrics=['accuracy'])\n",
    "    \n",
    "    \n",
    "    return S_M\n",
    "\n",
    "tests.test_simple_model(simple_model)\n",
    "\n",
    "# Reshaping the input to work with a basic RNN\n",
    "tmp_x = pad(preproc_english_sentences, max_french_sequence_length)\n",
    "tmp_x = tmp_x.reshape((-1, preproc_french_sentences.shape[-2], 1))\n",
    "\n",
    "# Train the neural network\n",
    "simple_rnn_model = simple_model(\n",
    "    tmp_x.shape,\n",
    "    max_french_sequence_length,\n",
    "    english_vocab_size+1,\n",
    "    french_vocab_size+1)\n",
    "simple_rnn_model.fit(tmp_x, preproc_french_sentences, batch_size=1024, epochs=25, validation_split=0.2)\n",
    "\n",
    "# Print prediction(s)\n",
    "print(english_sentences[0])\n",
    "print(logits_to_text(simple_rnn_model.predict(tmp_x[:1])[0], french_tokenizer))\n",
    "\n"
   ]
  },
  {
   "cell_type": "markdown",
   "metadata": {},
   "source": [
    "### Model 2: Embedding (IMPLEMENTATION)\n",
    "![RNN](images/embedding.png)\n",
    "You've turned the words into ids, but there's a better representation of a word.  This is called word embeddings.  An embedding is a vector representation of the word that is close to similar words in n-dimensional space, where the n represents the size of the embedding vectors.\n",
    "\n",
    "In this model, you'll create a RNN model using embedding."
   ]
  },
  {
   "cell_type": "code",
   "execution_count": 22,
   "metadata": {},
   "outputs": [
    {
     "name": "stdout",
     "output_type": "stream",
     "text": [
      "Train on 110288 samples, validate on 27573 samples\n",
      "Epoch 1/25\n",
      "110288/110288 [==============================] - 11s 97us/step - loss: 1.8589 - acc: 0.5997 - val_loss: nan - val_acc: 0.7957\n",
      "Epoch 2/25\n",
      "110288/110288 [==============================] - 8s 74us/step - loss: 0.5006 - acc: 0.8486 - val_loss: nan - val_acc: 0.8839\n",
      "Epoch 3/25\n",
      "110288/110288 [==============================] - 8s 74us/step - loss: 0.3264 - acc: 0.8972 - val_loss: nan - val_acc: 0.9091\n",
      "Epoch 4/25\n",
      "110288/110288 [==============================] - 8s 74us/step - loss: 0.2695 - acc: 0.9132 - val_loss: nan - val_acc: 0.9164\n",
      "Epoch 5/25\n",
      "110288/110288 [==============================] - 8s 74us/step - loss: 0.2402 - acc: 0.9211 - val_loss: nan - val_acc: 0.9211\n",
      "Epoch 6/25\n",
      "110288/110288 [==============================] - 8s 74us/step - loss: 0.2229 - acc: 0.9257 - val_loss: nan - val_acc: 0.9250\n",
      "Epoch 7/25\n",
      "110288/110288 [==============================] - 8s 74us/step - loss: 0.2143 - acc: 0.9279 - val_loss: nan - val_acc: 0.9276\n",
      "Epoch 8/25\n",
      "110288/110288 [==============================] - 8s 74us/step - loss: 0.2064 - acc: 0.9297 - val_loss: nan - val_acc: 0.9280\n",
      "Epoch 9/25\n",
      "110288/110288 [==============================] - 8s 73us/step - loss: 0.2007 - acc: 0.9311 - val_loss: nan - val_acc: 0.9292\n",
      "Epoch 10/25\n",
      "110288/110288 [==============================] - 8s 73us/step - loss: 0.1974 - acc: 0.9319 - val_loss: nan - val_acc: 0.9306\n",
      "Epoch 11/25\n",
      "110288/110288 [==============================] - 8s 73us/step - loss: 0.1906 - acc: 0.9337 - val_loss: nan - val_acc: 0.9309\n",
      "Epoch 12/25\n",
      "110288/110288 [==============================] - 8s 73us/step - loss: 0.1904 - acc: 0.9336 - val_loss: nan - val_acc: 0.9309\n",
      "Epoch 13/25\n",
      "110288/110288 [==============================] - 8s 73us/step - loss: 0.1902 - acc: 0.9335 - val_loss: nan - val_acc: 0.9302\n",
      "Epoch 14/25\n",
      "110288/110288 [==============================] - 8s 74us/step - loss: 0.1923 - acc: 0.9328 - val_loss: nan - val_acc: 0.9283\n",
      "Epoch 15/25\n",
      "110288/110288 [==============================] - 8s 75us/step - loss: 0.1877 - acc: 0.9341 - val_loss: nan - val_acc: 0.9302\n",
      "Epoch 16/25\n",
      "110288/110288 [==============================] - 8s 74us/step - loss: 0.1859 - acc: 0.9345 - val_loss: nan - val_acc: 0.9305\n",
      "Epoch 17/25\n",
      "110288/110288 [==============================] - 8s 74us/step - loss: 0.1876 - acc: 0.9342 - val_loss: nan - val_acc: 0.9309\n",
      "Epoch 18/25\n",
      "110288/110288 [==============================] - 8s 74us/step - loss: 0.1879 - acc: 0.9339 - val_loss: nan - val_acc: 0.9315\n",
      "Epoch 19/25\n",
      "110288/110288 [==============================] - 8s 75us/step - loss: 0.1874 - acc: 0.9342 - val_loss: nan - val_acc: 0.9322\n",
      "Epoch 20/25\n",
      "110288/110288 [==============================] - 8s 74us/step - loss: 0.1874 - acc: 0.9341 - val_loss: nan - val_acc: 0.9308\n",
      "Epoch 21/25\n",
      "110288/110288 [==============================] - 8s 74us/step - loss: 0.1876 - acc: 0.9341 - val_loss: nan - val_acc: 0.9314\n",
      "Epoch 22/25\n",
      "110288/110288 [==============================] - 8s 73us/step - loss: 0.1857 - acc: 0.9346 - val_loss: nan - val_acc: 0.9324\n",
      "Epoch 23/25\n",
      "110288/110288 [==============================] - 8s 73us/step - loss: 0.1824 - acc: 0.9355 - val_loss: nan - val_acc: 0.9319\n",
      "Epoch 24/25\n",
      "110288/110288 [==============================] - 8s 73us/step - loss: 0.1827 - acc: 0.9354 - val_loss: nan - val_acc: 0.9327\n",
      "Epoch 25/25\n",
      "110288/110288 [==============================] - 8s 73us/step - loss: 0.1873 - acc: 0.9342 - val_loss: nan - val_acc: 0.9300\n",
      "new jersey is sometimes quiet during autumn , and it is snowy in april .\n",
      "new jersey est parfois calme en l' automne et il est neigeux en avril <PAD> <PAD> <PAD> <PAD> <PAD> <PAD> <PAD>\n"
     ]
    }
   ],
   "source": [
    "from keras.models import Sequential\n",
    "# experimenting  with embeding vectors and rnn layer size: emb_rnn_size\n",
    "\"\"\"\n",
    "We tested different activation functions and narrowed it down to “tanh” and “elu” . \n",
    "Tanh being prone to saturate on large layers size we tried “elu” (since it neither saturates like tanh or doesn’t have the “dying” problem of “relu”as an alternative to “tanh” and came with \n",
    "(although saturation and vanishing gradient are not a problem with the set and embedding size we are are dealing with):  \n",
    "\n",
    "with activation “tanh”\n",
    "accuracy at embedding/layer size 64, 0.8296, 70 seconds\n",
    "accuracy at embedding/layer size 128 0.8884,  80 seconds\n",
    "accuracy at embedding/layer size 256 0.9173,  130 seconds (which would not make any sense knowing only 227 unique English words.)\n",
    "\n",
    "with activation “ elu”\n",
    "accuracy at embedding/layer size 64 0.8279,  70 seconds\n",
    "accuracy at embedding/layer size 128 0.8880 80 seconds\n",
    "accuracy at embedding/layer size 256 0.9129 130 seconds(which would not make any sense knowing only 227 unique English words,)\n",
    "\n",
    "With the actual setting below the accuracy peaked at 0.93 giving us an integral\n",
    "and accurate tranlation \"new jersey est parfois calme en l' automne et il est neigeux en avril \"\n",
    "after only 15 epochs\n",
    "\n",
    "\"\"\"\n",
    "\n",
    "                                                                  \n",
    "\n",
    "def embed_model(input_shape, output_sequence_length, english_vocab_size, french_vocab_size):\n",
    "    learning_rate = 1e-2\n",
    "    # sequential: building/stacking piece after piece \n",
    "    model = Sequential()\n",
    "    # size of the embedding \"64\" best compromize between accuracy and perfomance (80 seconds), \n",
    "    # still a very small compression knowing only 227 unique English words.\n",
    "    emb= Embedding(english_vocab_size, 64, input_length=input_shape[1]) \n",
    "    model.add(emb) \n",
    "    #first layer embedding\n",
    "    rnn = GRU(128, return_sequences=True, activation=\"tanh\")\n",
    "    #128 somewhat in propostion with the French vocabulary size, and also to compare with previous simple RNN model\n",
    "    model.add(rnn)\n",
    "    lgts = TimeDistributed(Dense(french_vocab_size, activation=\"softmax\"))\n",
    "    model.add(lgts)\n",
    "    model.compile(loss=sparse_categorical_crossentropy,\n",
    "                  optimizer=Adam(learning_rate),\n",
    "                  metrics=['accuracy'])\n",
    "    \n",
    "    return model\n",
    "\n",
    "#tests.test_embed_model(embed_model)\n",
    "\n",
    "tmp_x = pad(preproc_english_sentences, max_french_sequence_length)\n",
    "tmp_x = tmp_x.reshape((-1, preproc_french_sentences.shape[-2]))\n",
    "embeded_model = embed_model(\n",
    "    tmp_x.shape,\n",
    "    max_french_sequence_length,\n",
    "    english_vocab_size,\n",
    "    french_vocab_size)\n",
    "embeded_model.fit(tmp_x, preproc_french_sentences, batch_size=1024, epochs=25, validation_split=0.2)\n",
    "print(english_sentences[0])\n",
    "print(logits_to_text(embeded_model.predict(tmp_x[:1])[0], french_tokenizer))\n",
    "\n",
    "#as we changed the learning rate from 1e-3 to 1e-2 and 25 epochs we raised the accuracy to 0.93\n",
    "# and got the entire translation \" new jersey est parfois calme en l' automne et il est neigeux en avril\" \n"
   ]
  },
  {
   "cell_type": "markdown",
   "metadata": {},
   "source": [
    "### Model 3: Bidirectional RNNs (IMPLEMENTATION)\n",
    "![RNN](images/bidirectional.png)\n",
    "One restriction of a RNN is that it can't see the future input, only the past.  This is where bidirectional recurrent neural networks come in.  They are able to see the future data."
   ]
  },
  {
   "cell_type": "code",
   "execution_count": 23,
   "metadata": {},
   "outputs": [
    {
     "name": "stdout",
     "output_type": "stream",
     "text": [
      "Train on 110288 samples, validate on 27573 samples\n",
      "Epoch 1/25\n",
      "110288/110288 [==============================] - 13s 116us/step - loss: 1.7824 - acc: 0.5836 - val_loss: 1.2650 - val_acc: 0.6416\n",
      "Epoch 2/25\n",
      "110288/110288 [==============================] - 12s 111us/step - loss: 1.1617 - acc: 0.6621 - val_loss: 1.0783 - val_acc: 0.6746\n",
      "Epoch 3/25\n",
      "110288/110288 [==============================] - 12s 111us/step - loss: 1.0204 - acc: 0.6855 - val_loss: 0.9697 - val_acc: 0.6937\n",
      "Epoch 4/25\n",
      "110288/110288 [==============================] - 12s 111us/step - loss: 0.9401 - acc: 0.6982 - val_loss: 0.9009 - val_acc: 0.7080\n",
      "Epoch 5/25\n",
      "110288/110288 [==============================] - 12s 111us/step - loss: 0.8809 - acc: 0.7093 - val_loss: 0.8687 - val_acc: 0.7076\n",
      "Epoch 6/25\n",
      "110288/110288 [==============================] - 12s 112us/step - loss: 0.8405 - acc: 0.7167 - val_loss: 0.8158 - val_acc: 0.7230\n",
      "Epoch 7/25\n",
      "110288/110288 [==============================] - 12s 111us/step - loss: 0.8051 - acc: 0.7250 - val_loss: 0.7940 - val_acc: 0.7293\n",
      "Epoch 8/25\n",
      "110288/110288 [==============================] - 12s 112us/step - loss: 0.7766 - acc: 0.7321 - val_loss: 0.7907 - val_acc: 0.7267\n",
      "Epoch 9/25\n",
      "110288/110288 [==============================] - 12s 112us/step - loss: 0.7565 - acc: 0.7378 - val_loss: 0.7587 - val_acc: 0.7344\n",
      "Epoch 10/25\n",
      "110288/110288 [==============================] - 12s 112us/step - loss: 0.7319 - acc: 0.7456 - val_loss: 0.7132 - val_acc: 0.7523\n",
      "Epoch 11/25\n",
      "110288/110288 [==============================] - 12s 111us/step - loss: 0.7047 - acc: 0.7572 - val_loss: 0.7010 - val_acc: 0.7566\n",
      "Epoch 12/25\n",
      "110288/110288 [==============================] - 12s 112us/step - loss: 0.6801 - acc: 0.7690 - val_loss: 0.6701 - val_acc: 0.7719\n",
      "Epoch 13/25\n",
      "110288/110288 [==============================] - 12s 111us/step - loss: 0.6482 - acc: 0.7832 - val_loss: 0.6452 - val_acc: 0.7813\n",
      "Epoch 14/25\n",
      "110288/110288 [==============================] - 12s 112us/step - loss: 0.6328 - acc: 0.7878 - val_loss: 0.6203 - val_acc: 0.7939\n",
      "Epoch 15/25\n",
      "110288/110288 [==============================] - 12s 112us/step - loss: 0.6137 - acc: 0.7962 - val_loss: 0.6357 - val_acc: 0.7824\n",
      "Epoch 16/25\n",
      "110288/110288 [==============================] - 12s 112us/step - loss: 0.6018 - acc: 0.7999 - val_loss: 0.6176 - val_acc: 0.7913\n",
      "Epoch 17/25\n",
      "110288/110288 [==============================] - 12s 111us/step - loss: 0.5894 - acc: 0.8055 - val_loss: 0.5783 - val_acc: 0.8093\n",
      "Epoch 18/25\n",
      "110288/110288 [==============================] - 12s 111us/step - loss: 0.6059 - acc: 0.8030 - val_loss: 0.5996 - val_acc: 0.7997\n",
      "Epoch 19/25\n",
      "110288/110288 [==============================] - 12s 111us/step - loss: 0.5783 - acc: 0.8110 - val_loss: 0.5630 - val_acc: 0.8181\n",
      "Epoch 20/25\n",
      "110288/110288 [==============================] - 12s 111us/step - loss: 0.5522 - acc: 0.8213 - val_loss: 0.5504 - val_acc: 0.8206\n",
      "Epoch 21/25\n",
      "110288/110288 [==============================] - 12s 112us/step - loss: 0.5641 - acc: 0.8188 - val_loss: 0.5544 - val_acc: 0.8211\n",
      "Epoch 22/25\n",
      "110288/110288 [==============================] - 12s 111us/step - loss: 0.5522 - acc: 0.8207 - val_loss: 0.5398 - val_acc: 0.8261\n",
      "Epoch 23/25\n",
      "110288/110288 [==============================] - 12s 112us/step - loss: 0.5339 - acc: 0.8281 - val_loss: 0.5747 - val_acc: 0.8080\n",
      "Epoch 24/25\n",
      "110288/110288 [==============================] - 12s 112us/step - loss: 0.5237 - acc: 0.8309 - val_loss: 0.5285 - val_acc: 0.8288\n",
      "Epoch 25/25\n",
      "110288/110288 [==============================] - 12s 113us/step - loss: 0.5167 - acc: 0.8328 - val_loss: 0.5178 - val_acc: 0.8313\n",
      "new jersey is sometimes quiet during autumn , and it is snowy in april .\n",
      "new jersey est parfois calme en mois de il et il en en <PAD> <PAD> <PAD> <PAD> <PAD> <PAD> <PAD> <PAD>\n"
     ]
    }
   ],
   "source": [
    "#bidirectional\n",
    "def bd_model(input_shape, output_sequence_length, english_vocab_size, french_vocab_size):\n",
    "   \n",
    "    learning_rate = 0.5e-2\n",
    "    input_seq = Input(input_shape[1:])\n",
    "    #number of GRU units=128\n",
    "    \"\"\"\n",
    "       for comparison we kept the same size (128) than in the simple RNN but we \n",
    "       128 as the best accuracy vs performance compromise but we adjusted the learning rate from e-2 to 0.5e-2 to avoid \n",
    "       to fine tune the convergence and raise the accuracy from 0.78 to 0.83 ,so not a spectacular improvement.\n",
    "       Consequently the quality test sentence translation is similar to the simple RNN one.  \n",
    "\n",
    "    \"\"\" \n",
    "    rnn = Bidirectional(GRU(128, return_sequences = True))(input_seq)\n",
    "        #french_vocab_size: output size is logicaly based on the size of the langage we are tranlating to \n",
    "    logits = TimeDistributed(Dense(french_vocab_size))(rnn)\n",
    "        # softmax for normalization, OK for not deep RNN\n",
    "    BD_M = Model(input_seq, Activation('softmax')(logits))\n",
    "    BD_M.compile(loss=sparse_categorical_crossentropy,\n",
    "                  optimizer=Adam(learning_rate),\n",
    "                  metrics=['accuracy'])\n",
    "    \n",
    "    \n",
    "    return BD_M\n",
    "    #return None\n",
    "\n",
    "\n",
    "\n",
    "tests.test_bd_model(bd_model)\n",
    "\n",
    "# Reshaping the input to work with a basic RNN\n",
    "tmp_x = pad(preproc_english_sentences, max_french_sequence_length)\n",
    "tmp_x = tmp_x.reshape((-1, preproc_french_sentences.shape[-2], 1))\n",
    "\n",
    "# Train the neural network\n",
    "bd_rnn_model = bd_model(\n",
    "    tmp_x.shape,\n",
    "    max_french_sequence_length,\n",
    "    english_vocab_size+1,\n",
    "    french_vocab_size+1)\n",
    "bd_rnn_model.fit(tmp_x, preproc_french_sentences, batch_size=1024, epochs=25, validation_split=0.2)\n",
    "\n",
    "# Print prediction(s)\n",
    "print(english_sentences[0])\n",
    "print(logits_to_text(bd_rnn_model.predict(tmp_x[:1])[0], french_tokenizer))"
   ]
  },
  {
   "cell_type": "markdown",
   "metadata": {},
   "source": [
    "### Model 4: Encoder-Decoder (OPTIONAL)\n",
    "Time to look at encoder-decoder models.  This model is made up of an encoder and decoder. The encoder creates a matrix representation of the sentence.  The decoder takes this matrix as input and predicts the translation as output.\n",
    "\n",
    "Create an encoder-decoder model in the cell below."
   ]
  },
  {
   "cell_type": "code",
   "execution_count": null,
   "metadata": {},
   "outputs": [],
   "source": [
    "def encdec_model(input_shape, output_sequence_length, english_vocab_size, french_vocab_size):\n",
    "    \"\"\"\n",
    "    Build and train an encoder-decoder model on x and y\n",
    "    :param input_shape: Tuple of input shape\n",
    "    :param output_sequence_length: Length of output sequence\n",
    "    :param english_vocab_size: Number of unique English words in the dataset\n",
    "    :param french_vocab_size: Number of unique French words in the dataset\n",
    "    :return: Keras model built, but not trained\n",
    "    \"\"\"\n",
    "    # OPTIONAL: Implement\n",
    "    \n",
    "    # The enc/dec is included  in the custom implementation  (\"model_final\" )\n",
    "    \n",
    "    \n",
    "    return None\n",
    "tests.test_encdec_model(encdec_model)\n",
    "\n",
    "\n",
    "# OPTIONAL: Train and Print prediction(s)"
   ]
  },
  {
   "cell_type": "markdown",
   "metadata": {},
   "source": [
    "### Model 5: Custom (IMPLEMENTATION)\n",
    "Use everything you learned from the previous models to create a model that incorporates embedding and a bidirectional rnn into one model."
   ]
  },
  {
   "cell_type": "code",
   "execution_count": 25,
   "metadata": {},
   "outputs": [
    {
     "name": "stdout",
     "output_type": "stream",
     "text": [
      "Final Model Loaded\n",
      "Train on 110288 samples, validate on 27573 samples\n",
      "Epoch 1/20\n",
      "110288/110288 [==============================] - 26s 232us/step - loss: 2.0665 - acc: 0.5332 - val_loss: nan - val_acc: 0.6532\n",
      "Epoch 2/20\n",
      "110288/110288 [==============================] - 24s 222us/step - loss: 1.0311 - acc: 0.7122 - val_loss: nan - val_acc: 0.7661\n",
      "Epoch 3/20\n",
      "110288/110288 [==============================] - 25s 224us/step - loss: 0.6819 - acc: 0.8010 - val_loss: nan - val_acc: 0.8446\n",
      "Epoch 4/20\n",
      "110288/110288 [==============================] - 25s 223us/step - loss: 0.4236 - acc: 0.8772 - val_loss: nan - val_acc: 0.8967\n",
      "Epoch 5/20\n",
      "110288/110288 [==============================] - 25s 222us/step - loss: 0.2550 - acc: 0.9305 - val_loss: nan - val_acc: 0.9407\n",
      "Epoch 6/20\n",
      "110288/110288 [==============================] - 25s 223us/step - loss: 0.2031 - acc: 0.9432 - val_loss: nan - val_acc: 0.9408\n",
      "Epoch 7/20\n",
      "110288/110288 [==============================] - 25s 223us/step - loss: 0.1679 - acc: 0.9527 - val_loss: nan - val_acc: 0.9566\n",
      "Epoch 8/20\n",
      "110288/110288 [==============================] - 25s 223us/step - loss: 0.1772 - acc: 0.9488 - val_loss: nan - val_acc: 0.9545\n",
      "Epoch 9/20\n",
      "110288/110288 [==============================] - 25s 223us/step - loss: 0.1296 - acc: 0.9631 - val_loss: nan - val_acc: 0.9619\n",
      "Epoch 10/20\n",
      "110288/110288 [==============================] - 25s 223us/step - loss: 0.1062 - acc: 0.9693 - val_loss: nan - val_acc: 0.9687\n",
      "Epoch 11/20\n",
      "110288/110288 [==============================] - 25s 223us/step - loss: 0.0915 - acc: 0.9736 - val_loss: nan - val_acc: 0.9698\n",
      "Epoch 12/20\n",
      "110288/110288 [==============================] - 25s 223us/step - loss: 0.2627 - acc: 0.9243 - val_loss: nan - val_acc: 0.9515\n",
      "Epoch 13/20\n",
      "110288/110288 [==============================] - 25s 223us/step - loss: 0.1333 - acc: 0.9617 - val_loss: nan - val_acc: 0.9638\n",
      "Epoch 14/20\n",
      "110288/110288 [==============================] - 25s 223us/step - loss: 0.1181 - acc: 0.9655 - val_loss: nan - val_acc: 0.9656\n",
      "Epoch 15/20\n",
      "110288/110288 [==============================] - 25s 223us/step - loss: 0.0976 - acc: 0.9713 - val_loss: nan - val_acc: 0.9705\n",
      "Epoch 16/20\n",
      "110288/110288 [==============================] - 25s 222us/step - loss: 0.0800 - acc: 0.9766 - val_loss: nan - val_acc: 0.9708\n",
      "Epoch 17/20\n",
      "110288/110288 [==============================] - 25s 223us/step - loss: 0.2599 - acc: 0.9251 - val_loss: nan - val_acc: 0.8943\n",
      "Epoch 18/20\n",
      "110288/110288 [==============================] - 25s 224us/step - loss: 0.2030 - acc: 0.9392 - val_loss: nan - val_acc: 0.9554\n",
      "Epoch 19/20\n",
      "110288/110288 [==============================] - 25s 223us/step - loss: 0.2070 - acc: 0.9383 - val_loss: nan - val_acc: 0.8959\n",
      "Epoch 20/20\n",
      "110288/110288 [==============================] - 25s 223us/step - loss: 0.2100 - acc: 0.9356 - val_loss: nan - val_acc: 0.9554\n",
      "new jersey is sometimes quiet during autumn , and it is snowy in april .\n",
      "new jersey est parfois calme pendant l'automne et il est neigeux en en <PAD> <PAD> <PAD> <PAD> <PAD> <PAD> <PAD> <PAD>\n"
     ]
    }
   ],
   "source": [
    "                                         \n",
    "def model_final(input_shape, output_sequence_length, english_vocab_size, french_vocab_size):\n",
    "    learning_rate = 1e-2\n",
    "    # sequential: building/stacking piece after piece \n",
    "    model = Sequential()\n",
    "    # size of the embedding \"64\" best compromize between accuracy and perfomance (80 seconds), still a very small compression knowing only 227 unique English words.)\n",
    "    \n",
    "    emb= Embedding(english_vocab_size, 64, input_length=input_shape[1]) \n",
    "    #print(\"input shape\",input_shape)\n",
    "\n",
    "    model.add(emb) \n",
    "    #first layer embedding\n",
    "    #rnn = Bidirectional(GRU(128, return_sequences=True, activation=\"tanh\"))\n",
    "    \n",
    "    # return sequence False for the encoder/vector\n",
    "    BD_pre_vec = Bidirectional(GRU(128, return_sequences=False))\n",
    "    # return sequence True 3D array \n",
    "    BD_post_vec = Bidirectional(GRU(128, return_sequences=True))\n",
    "    model.add(BD_pre_vec)\n",
    "    model.add(RepeatVector(output_sequence_length))\n",
    "    model.add(BD_post_vec)\n",
    "    lgts = TimeDistributed(Dense(french_vocab_size, activation=\"softmax\"))\n",
    "    model.add(lgts)\n",
    "    model.compile(loss=sparse_categorical_crossentropy,\n",
    "                  optimizer=Adam(learning_rate),\n",
    "                  metrics=['accuracy'])\n",
    "    \n",
    "    return model\n",
    "tests.test_model_final(model_final)\n",
    "print('Final Model Loaded')\n",
    "#-------------------------testing below--------------------------3\n",
    "tmp_x = pad(preproc_english_sentences, max_french_sequence_length)\n",
    "tmp_x = tmp_x.reshape((-1, preproc_french_sentences.shape[-2]))\n",
    "\n",
    "\n",
    "M_F = model_final(\n",
    "    tmp_x.shape,\n",
    "    max_french_sequence_length,\n",
    "    english_vocab_size,\n",
    "    french_vocab_size)\n",
    "M_F.fit(tmp_x, preproc_french_sentences, batch_size=1024, epochs=20 ,validation_split=0.2)\n",
    "print(english_sentences[0])\n",
    "print(logits_to_text(M_F.predict(tmp_x[:1])[0], french_tokenizer))\n",
    "# for RNN 128 we raised the acuracy to 0.85 compared to 0,66 with a simple RNN\n",
    "# then as we changed the learning rate from 1e-3 to 1e-2 and 25 epochs we raised the accuracy to 0.96\n",
    "\n"
   ]
  },
  {
   "cell_type": "markdown",
   "metadata": {},
   "source": [
    "## DON'T EDIT ANYTHING BELOW THIS LINE\n",
    "    y_id_to_word = {value: key for key, value in y_tk.word_index.items()}\n",
    "    y_id_to_word[0] = '<PAD>'\n",
    "\n",
    "    sentence = 'he saw a old yellow truck'\n",
    "    sentence = [x_tk.word_index[word] for word in sentence.split()]\n",
    "    sentence = pad_sequences([sentence], maxlen=x.shape[-1], padding='post')\n",
    "    sentences = np.array([sentence[0], x[0]])\n",
    "    predictions = model.predict(sentences, len(sentences))\n",
    "\n",
    "    print('Sample 1:')\n",
    "    print(' '.join([y_id_to_word[np.argmax(x)] for x in predictions[0]]))\n",
    "    print('Il a vu un vieux camion jaune')\n",
    "    print('Sample 2:')\n",
    "    print(' '.join([y_id_to_word[np.argmax(x)] for x in predictions[1]]))\n",
    "    print(' '.join([y_id_to_word[np.max(x)] for x in y[0]]))\n",
    "\n"
   ]
  },
  {
   "cell_type": "code",
   "execution_count": 28,
   "metadata": {},
   "outputs": [
    {
     "name": "stdout",
     "output_type": "stream",
     "text": [
      "Train on 110288 samples, validate on 27573 samples\n",
      "Epoch 1/25\n",
      "110288/110288 [==============================] - 24s 220us/step - loss: 2.1811 - acc: 0.5089 - val_loss: 1.3860 - val_acc: 0.6306\n",
      "Epoch 2/25\n",
      "110288/110288 [==============================] - 22s 202us/step - loss: 1.1072 - acc: 0.6923 - val_loss: 0.8800 - val_acc: 0.7423\n",
      "Epoch 3/25\n",
      "110288/110288 [==============================] - 22s 202us/step - loss: 0.7211 - acc: 0.7862 - val_loss: 0.5672 - val_acc: 0.8321\n",
      "Epoch 4/25\n",
      "110288/110288 [==============================] - 22s 201us/step - loss: 0.4500 - acc: 0.8670 - val_loss: 0.3352 - val_acc: 0.9050\n",
      "Epoch 5/25\n",
      "110288/110288 [==============================] - 22s 201us/step - loss: 0.2643 - acc: 0.9262 - val_loss: 0.2201 - val_acc: 0.9386\n",
      "Epoch 6/25\n",
      "110288/110288 [==============================] - 22s 202us/step - loss: 0.1938 - acc: 0.9463 - val_loss: 0.1878 - val_acc: 0.9473\n",
      "Epoch 7/25\n",
      "110288/110288 [==============================] - 22s 201us/step - loss: 0.1620 - acc: 0.9543 - val_loss: 0.1514 - val_acc: 0.9581\n",
      "Epoch 8/25\n",
      "110288/110288 [==============================] - 22s 202us/step - loss: 0.1621 - acc: 0.9528 - val_loss: 0.1462 - val_acc: 0.9601\n",
      "Epoch 9/25\n",
      "110288/110288 [==============================] - 22s 202us/step - loss: 0.1243 - acc: 0.9645 - val_loss: 0.1314 - val_acc: 0.9634\n",
      "Epoch 10/25\n",
      "110288/110288 [==============================] - 22s 202us/step - loss: 0.1293 - acc: 0.9626 - val_loss: 0.1197 - val_acc: 0.9661\n",
      "Epoch 11/25\n",
      "110288/110288 [==============================] - 22s 201us/step - loss: 0.1158 - acc: 0.9664 - val_loss: 0.1148 - val_acc: 0.9673\n",
      "Epoch 12/25\n",
      "110288/110288 [==============================] - 22s 202us/step - loss: 0.0893 - acc: 0.9743 - val_loss: 0.0942 - val_acc: 0.9725\n",
      "Epoch 13/25\n",
      "110288/110288 [==============================] - 22s 202us/step - loss: 0.1166 - acc: 0.9661 - val_loss: 0.1417 - val_acc: 0.9596\n",
      "Epoch 14/25\n",
      "110288/110288 [==============================] - 22s 201us/step - loss: 0.1265 - acc: 0.9629 - val_loss: 0.1136 - val_acc: 0.9670\n",
      "Epoch 15/25\n",
      "110288/110288 [==============================] - 22s 202us/step - loss: 0.0872 - acc: 0.9744 - val_loss: 0.0963 - val_acc: 0.9723\n",
      "Epoch 16/25\n",
      "110288/110288 [==============================] - 22s 202us/step - loss: 0.1028 - acc: 0.9699 - val_loss: 0.1153 - val_acc: 0.9664\n",
      "Epoch 17/25\n",
      "110288/110288 [==============================] - 22s 201us/step - loss: 0.0908 - acc: 0.9733 - val_loss: 0.1102 - val_acc: 0.9677\n",
      "Epoch 18/25\n",
      "110288/110288 [==============================] - 22s 201us/step - loss: 0.0822 - acc: 0.9757 - val_loss: 0.1202 - val_acc: 0.9667\n",
      "Epoch 19/25\n",
      "110288/110288 [==============================] - 22s 202us/step - loss: 0.0979 - acc: 0.9712 - val_loss: 0.1294 - val_acc: 0.9634\n",
      "Epoch 20/25\n",
      "110288/110288 [==============================] - 22s 201us/step - loss: 0.0990 - acc: 0.9710 - val_loss: 0.1180 - val_acc: 0.9662\n",
      "Epoch 21/25\n",
      "110288/110288 [==============================] - 22s 202us/step - loss: 0.1049 - acc: 0.9687 - val_loss: 0.0956 - val_acc: 0.9727\n",
      "Epoch 22/25\n",
      "110288/110288 [==============================] - 22s 202us/step - loss: 0.0794 - acc: 0.9763 - val_loss: 0.1529 - val_acc: 0.9548\n",
      "Epoch 23/25\n",
      "110288/110288 [==============================] - 22s 201us/step - loss: 0.1103 - acc: 0.9671 - val_loss: 0.0933 - val_acc: 0.9732\n",
      "Epoch 24/25\n",
      "110288/110288 [==============================] - 22s 202us/step - loss: 0.1388 - acc: 0.9598 - val_loss: 0.1696 - val_acc: 0.9521\n",
      "Epoch 25/25\n",
      "110288/110288 [==============================] - 22s 203us/step - loss: 0.1178 - acc: 0.9648 - val_loss: 0.1146 - val_acc: 0.9673\n",
      "Sample 1:\n",
      "traduction: il a vu un vieux camion jaune <PAD> <PAD> <PAD> <PAD> <PAD> <PAD> <PAD> <PAD> <PAD> <PAD> <PAD> <PAD> <PAD> <PAD>\n",
      "originale: Il a vu un vieux camion jaune\n",
      "Sample 2:\n",
      "traduction: new jersey est parfois calme pendant l' automne et il est neigeux en avril <PAD> <PAD> <PAD> <PAD> <PAD> <PAD> <PAD>\n",
      "originale: new jersey est parfois calme pendant l' automne et il est neigeux en avril <PAD> <PAD> <PAD> <PAD> <PAD> <PAD> <PAD>\n"
     ]
    }
   ],
   "source": [
    "\n",
    "def final_predictions(x, y, x_tk, y_tk):\n",
    "    tmp_x = pad(x)\n",
    "    model = model_final(tmp_x.shape,y.shape[1],len(x_tk.word_index)+1,len(y_tk.word_index)+1)\n",
    "    model.fit(tmp_x, y, batch_size = 1024, epochs = 25, validation_split = 0.2)\n",
    "\n",
    "    ## DON'T EDIT ANYTHING BELOW THIS LINE\n",
    "    y_id_to_word = {value: key for key, value in y_tk.word_index.items()}\n",
    "    y_id_to_word[0] = '<PAD>'\n",
    "    sentence = 'he saw a old yellow truck'\n",
    "    sentence = [x_tk.word_index[word] for word in sentence.split()]\n",
    "    sentence = pad_sequences([sentence], maxlen=x.shape[-1], padding='post')\n",
    "    sentences = np.array([sentence[0], x[0]])\n",
    "    predictions = model.predict(sentences, len(sentences))\n",
    "    print('Sample 1:')\n",
    "    print(\"traduction:\",' '.join([y_id_to_word[np.argmax(x)] for x in predictions[0]]))\n",
    "    print(\"originale:\",'Il a vu un vieux camion jaune')\n",
    "    print('Sample 2:')\n",
    "    print(\"traduction:\",' '.join([y_id_to_word[np.argmax(x)] for x in predictions[1]]))\n",
    "    print(\"originale:\",' '.join([y_id_to_word[np.max(x)] for x in y[0]]))\n",
    "\n",
    "final_predictions(preproc_english_sentences, preproc_french_sentences, english_tokenizer, french_tokenizer)"
   ]
  },
  {
   "cell_type": "markdown",
   "metadata": {},
   "source": [
    "## Prediction (IMPLEMENTATION)"
   ]
  },
  {
   "cell_type": "markdown",
   "metadata": {},
   "source": [
    "## Submission\n",
    "When you're ready to submit, complete the following steps:\n",
    "1. Review the [rubric](https://review.udacity.com/#!/rubrics/1004/view) to ensure your submission meets all requirements to pass\n",
    "2. Generate an HTML version of this notebook\n",
    "\n",
    "  - Run the next cell to attempt automatic generation (this is the recommended method in Workspaces)\n",
    "  - Navigate to **FILE -> Download as -> HTML (.html)**\n",
    "  - Manually generate a copy using `nbconvert` from your shell terminal\n",
    "```\n",
    "$ pip install nbconvert\n",
    "$ python -m nbconvert machine_translation.ipynb\n",
    "```\n",
    "  \n",
    "3. Submit the project\n",
    "\n",
    "  - If you are in a Workspace, simply click the \"Submit Project\" button (bottom towards the right)\n",
    "  \n",
    "  - Otherwise, add the following files into a zip archive and submit them \n",
    "  - `helper.py`\n",
    "  - `machine_translation.ipynb`\n",
    "  - `machine_translation.html`\n",
    "    - You can export the notebook by navigating to **File -> Download as -> HTML (.html)**."
   ]
  },
  {
   "cell_type": "markdown",
   "metadata": {},
   "source": [
    "### Generate the html\n",
    "\n",
    "**Save your notebook before running the next cell to generate the HTML output.** Then submit your project."
   ]
  },
  {
   "cell_type": "code",
   "execution_count": 29,
   "metadata": {},
   "outputs": [
    {
     "data": {
      "text/plain": [
       "['[NbConvertApp] Converting notebook machine_translation-HARD_CODED.ipynb to html',\n",
       " '[NbConvertApp] Writing 355382 bytes to machine_translation-HARD_CODED.html',\n",
       " '[NbConvertApp] Converting notebook machine_translation.ipynb to html',\n",
       " '[NbConvertApp] Writing 306467 bytes to machine_translation.html']"
      ]
     },
     "execution_count": 29,
     "metadata": {},
     "output_type": "execute_result"
    }
   ],
   "source": [
    "# Save before you run this cell!\n",
    "!!jupyter nbconvert *.ipynb"
   ]
  },
  {
   "cell_type": "markdown",
   "metadata": {},
   "source": [
    "## Optional Enhancements\n",
    "\n",
    "This project focuses on learning various network architectures for machine translation, but we don't evaluate the models according to best practices by splitting the data into separate test & training sets -- so the model accuracy is overstated. Use the [`sklearn.model_selection.train_test_split()`](http://scikit-learn.org/stable/modules/generated/sklearn.model_selection.train_test_split.html) function to create separate training & test datasets, then retrain each of the models using only the training set and evaluate the prediction accuracy using the hold out test set. Does the \"best\" model change?"
   ]
  }
 ],
 "metadata": {
  "kernelspec": {
   "display_name": "Python 3",
   "language": "python",
   "name": "python3"
  },
  "language_info": {
   "codemirror_mode": {
    "name": "ipython",
    "version": 3
   },
   "file_extension": ".py",
   "mimetype": "text/x-python",
   "name": "python",
   "nbconvert_exporter": "python",
   "pygments_lexer": "ipython3",
   "version": "3.6.3"
  }
 },
 "nbformat": 4,
 "nbformat_minor": 1
}
